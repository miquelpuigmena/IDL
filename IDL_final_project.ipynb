{
  "nbformat": 4,
  "nbformat_minor": 0,
  "metadata": {
    "colab": {
      "name": "IDL_final_project.ipynb",
      "version": "0.3.2",
      "provenance": [],
      "collapsed_sections": [],
      "include_colab_link": true
    },
    "kernelspec": {
      "name": "python3",
      "display_name": "Python 3"
    },
    "accelerator": "GPU"
  },
  "cells": [
    {
      "cell_type": "markdown",
      "metadata": {
        "id": "view-in-github",
        "colab_type": "text"
      },
      "source": [
        "<a href=\"https://colab.research.google.com/github/miquelpuigmena/IDL/blob/master/IDL_final_project.ipynb\" target=\"_parent\"><img src=\"https://colab.research.google.com/assets/colab-badge.svg\" alt=\"Open In Colab\"/></a>"
      ]
    },
    {
      "metadata": {
        "id": "okSlhDUvvkMp",
        "colab_type": "text"
      },
      "cell_type": "markdown",
      "source": [
        "**Analysis of the performance of different Loss Functions for the MNIST Classification Problem**\n",
        "\n",
        "Loss Functions available in Pytorch: https://pytorch.org/docs/stable/nn.html#loss-functions"
      ]
    },
    {
      "metadata": {
        "id": "EnI-r2Tz3sX8",
        "colab_type": "text"
      },
      "cell_type": "markdown",
      "source": [
        "We'll use PyTorch to define and train a model based on Convolutional Neural Networks for solving the problem. Let's import the PyTorch library along with all its dependencies. Matplotlib will be used for plotting purposes."
      ]
    },
    {
      "metadata": {
        "id": "lqjScUHKp8BD",
        "colab_type": "code",
        "colab": {}
      },
      "cell_type": "code",
      "source": [
        "#Install libraries if needed\n",
        "!pip install pillow==5.4.1\n",
        "!pip install matplotlib\n",
        "!pip install torch\n",
        "!pip install torchvision"
      ],
      "execution_count": 0,
      "outputs": []
    },
    {
      "metadata": {
        "id": "SCO-7iIdqGVM",
        "colab_type": "code",
        "colab": {}
      },
      "cell_type": "code",
      "source": [
        "#Import libraries\n",
        "import matplotlib.pyplot as plt\n",
        "import torch\n",
        "import torch.nn as nn\n",
        "import torch.nn.functional as F\n",
        "import torch.optim as optim\n",
        "from torchvision import datasets, transforms"
      ],
      "execution_count": 0,
      "outputs": []
    },
    {
      "metadata": {
        "id": "3jBnY0884M-H",
        "colab_type": "text"
      },
      "cell_type": "markdown",
      "source": [
        "Let's now define the Deep Neural Network that we want to train. We must first, inside the *init constructor*, define the layers that our network will have. For solving the MNIST Classification problem, we'll use two **2D convolutional layers** followed by two **feed-forward layers**.\n",
        "\n",
        "The first layer is a 2D convolutional layer will handle the input (a B/W image of a digit from the MNIST database, thus an input of 1 channel) and produce an output of 20 channels. The second convolutional layer will handle these 20 channels and output 50 channels. The third layer, a feed-forward one, will handle an input of 4\\*4*50 channels and output 500 channels. The fourth layer will deal with it and produce a final output of 10 layers, which matches the possible digits that can predicted (from 0 to 9).\n",
        "\n",
        "The *forward* method of the class defines the **forward pass**, i.e the actions to be performed at the output of each layer and before the next one. After each convolutional layer, a ReLU (Rectified Linear Unit) activation function is applied, and then a maximum pooling of size 2x2 is performed. After the pooling of the second convolutional layer, the shape of the output tensor is changed, from two dimensions to a single dimension so as that it can be fed to the feed-forward layers. After the first feed-forward layer, a ReLU activation function is applied. Finally, the last layer, after the second feed-forward layer, is a Softmax layer.\n",
        "\n",
        "\n",
        "\n"
      ]
    },
    {
      "metadata": {
        "id": "TC6HneCXsJb3",
        "colab_type": "code",
        "colab": {}
      },
      "cell_type": "code",
      "source": [
        "class Net(nn.Module):\n",
        "    def __init__(self):\n",
        "      #Definition of the layers of the NN\n",
        "        super(Net, self).__init__()\n",
        "        self.conv1 = nn.Conv2d(1, 20, 5, 1)\n",
        "        self.conv2 = nn.Conv2d(20, 50, 5, 1)\n",
        "        self.fc1 = nn.Linear(4*4*50, 500)\n",
        "        self.fc2 = nn.Linear(500, 10)\n",
        "\n",
        "    def forward(self, x):\n",
        "      #Definition of activation functions, poolings, intermediate layers\n",
        "        x = F.relu(self.conv1(x))\n",
        "        x = F.max_pool2d(x, 2, 2)\n",
        "        x = F.relu(self.conv2(x))\n",
        "        x = F.max_pool2d(x, 2, 2)\n",
        "        x = x.view(-1, 4*4*50)\n",
        "        x = F.relu(self.fc1(x))\n",
        "        x = self.fc2(x)\n",
        "        return F.log_softmax(x, dim=1)"
      ],
      "execution_count": 0,
      "outputs": []
    },
    {
      "metadata": {
        "id": "r0xNM8poqaY1",
        "colab_type": "text"
      },
      "cell_type": "markdown",
      "source": [
        "We decided to initialize values on each iteration using xavier_uniform_ function."
      ]
    },
    {
      "metadata": {
        "id": "wWghbMpAkON4",
        "colab_type": "code",
        "colab": {}
      },
      "cell_type": "code",
      "source": [
        "def init_weights(m):\n",
        "    if type(m) == nn.Linear:\n",
        "        nn.init.xavier_uniform_(m.weight)\n",
        "        m.bias.data.fill_(0.01)"
      ],
      "execution_count": 0,
      "outputs": []
    },
    {
      "metadata": {
        "id": "vEWVpIv_5b4y",
        "colab_type": "text"
      },
      "cell_type": "markdown",
      "source": [
        "Now, we must define how the Deep Neural Network is trained, which involves defining the **backward pass**.\n",
        "\n",
        "For the training, different Loss Functions will be used and their results compared. To compare the results, a *losses* vector is defined, so that the loss evolution over training steps will be later plotted for each Loss Function. The LF to be checked are: *l1_loss*, *cross_entropy*, *cosine_similarity*, *hinge_embedding_loss*, and *nll_loss*."
      ]
    },
    {
      "metadata": {
        "id": "PJCLWFc7h2uQ",
        "colab_type": "code",
        "colab": {}
      },
      "cell_type": "code",
      "source": [
        "def train(log_interval, model, device, train_loader, optimizer, epoch, loss_type):\n",
        "    losses = [] # Vector to save the losses for each train iteration\n",
        "    model.train() # let's put the model in training mode\n",
        "    \n",
        "    for batch_idx, (data, target) in enumerate(train_loader):\n",
        "        data, target = data.to(device), target.to(device)\n",
        "        optimizer.zero_grad()\n",
        "        output = model(data)\n",
        "        \n",
        "        #We'll evaluate different loss functions\n",
        "        if (loss_type is \"l1_loss\" or loss_type is \"mse_loss\"):\n",
        "          #Let's transform the architecture of target appropiately\n",
        "          #so that it can be used with functions l1_loss and mse_loss,\n",
        "          #which are normally used for regression problems.\n",
        "          #target is now a vector of mini-batch length with the ground truth\n",
        "          #for each mini-batch element. It will be transformed to a tensor,\n",
        "          #in which each element will be a vector with 0 for all the indexes not\n",
        "          #corresponding to the ground truth and 1 for the element corresponding to it.\n",
        "          \n",
        "          newtarget = []\n",
        "          for index, element in enumerate(target):\n",
        "            vector = []\n",
        "            for i in range(10):\n",
        "              if (i == element):\n",
        "                vector.append(1)\n",
        "              else:\n",
        "                vector.append(0)\n",
        "            newtarget.append(vector)\n",
        "          \n",
        "          if torch.cuda.is_available():\n",
        "            newtarget = torch.cuda.FloatTensor(newtarget)\n",
        "          else:\n",
        "            newtarget = torch.FloatTensor(newtarget)\n",
        "        \n",
        "        if loss_type is \"l1_loss\":          \n",
        "          loss = F.l1_loss(output, newtarget)\n",
        "        elif loss_type is \"mse_loss\":\n",
        "          loss = F.mse_loss(output, newtarget)\n",
        "        elif loss_type is \"nll_loss\":\n",
        "          loss = F.nll_loss(output, target)       \n",
        "        elif loss_type is \"cross_entropy\":\n",
        "          loss = F.cross_entropy(output, target)\n",
        "        elif loss_type is \"multi_margin_loss\":\n",
        "          loss = F.multi_margin_loss(output, target)\n",
        "        #elif loss_type is \"cosine_similarity\":\n",
        "          #loss = F.cosine_similarity(...)\n",
        "        else:\n",
        "          return\n",
        "\n",
        "        loss.backward()\n",
        "        optimizer.step()\n",
        "        losses.append(loss.item())\n",
        "        \n",
        "        #Every once in a while, show the progress of training and the loss \n",
        "        if batch_idx % log_interval == 0:\n",
        "            print('Train Epoch: {} [{}/{} ({:.0f}%)]\\tLoss: {:.6f}'.format(\n",
        "                epoch, batch_idx * len(data), len(train_loader.dataset),\n",
        "                100. * batch_idx / len(train_loader), loss.item()))\n",
        "    return losses"
      ],
      "execution_count": 0,
      "outputs": []
    },
    {
      "metadata": {
        "id": "UE5PItOwCQoH",
        "colab_type": "text"
      },
      "cell_type": "markdown",
      "source": [
        "Once the model is trained, in order to evaluate its performance, we must devote part of the batch to validation. This part of the batch has not been used for training and the loss must be computed for it, to ensure that no **overfitting** is happening with the training batch."
      ]
    },
    {
      "metadata": {
        "id": "c0UGBACRpgjj",
        "colab_type": "code",
        "colab": {}
      },
      "cell_type": "code",
      "source": [
        "def validate(model, device, loader, loss_type):\n",
        "    \n",
        "    model.eval()  # let's put the model in evaluation mode\n",
        "\n",
        "    validation_loss = 0\n",
        "    correct = 0\n",
        "    \n",
        "    with torch.no_grad():  # we don't need gradient computation at all\n",
        "        for data, target in loader:\n",
        "            data, target = data.to(device), target.to(device)\n",
        "            output = model(data)\n",
        "            \n",
        "            if (loss_type is \"l1_loss\" or loss_type is \"mse_loss\"):\n",
        "              #Let's transform the architecture of target appropiately\n",
        "              #so that it can be used with functions l1_loss and mse_loss,\n",
        "              #which are normally used for regression problems.\n",
        "              #target is now a vector of mini-batch length with the ground truth\n",
        "              #for each mini-batch element. It will be transformed to a tensor,\n",
        "              #in which each element will be a vector with 0 for all the indexes not\n",
        "              #corresponding to the ground truth and 1 for the element corresponding to it.\n",
        "\n",
        "              newtarget = []\n",
        "              for index, element in enumerate(target):\n",
        "                vector = []\n",
        "                for i in range(10):\n",
        "                  if (i == element):\n",
        "                    vector.append(1)\n",
        "                  else:\n",
        "                    vector.append(0)\n",
        "                newtarget.append(vector)\n",
        "\n",
        "              if torch.cuda.is_available():\n",
        "                newtarget = torch.cuda.FloatTensor(newtarget)\n",
        "              else:\n",
        "                newtarget = torch.FloatTensor(newtarget)\n",
        "            \n",
        "            if loss_type is \"l1_loss\":\n",
        "              validation_loss += F.l1_loss(output, newtarget, reduction='sum').item()\n",
        "            elif loss_type is \"mse_loss\":\n",
        "              validation_loss += F.mse_loss(output, newtarget, reduction='sum').item()\n",
        "            elif loss_type is \"nll_loss\":\n",
        "              validation_loss += F.nll_loss(output, target, reduction='sum').item()\n",
        "            elif loss_type is \"cross_entropy\":\n",
        "              validation_loss += F.cross_entropy(output, target, reduction='sum').item()\n",
        "            elif loss_type is \"multi_margin_loss\":\n",
        "              validation_loss += F.multi_margin_loss(output, target, reduction='sum').item()\n",
        "            #elif loss_type is \"cosine_similarity\":\n",
        "              #validation_loss += F.cosine_similarity(..., reduction='sum').item()\n",
        "            else:\n",
        "              return\n",
        "            \n",
        "            pred = output.argmax(dim=1, keepdim=True) # get the index of the max log-probability\n",
        "            correct += pred.eq(target.view_as(pred)).sum().item()\n",
        "\n",
        "    validation_loss /= len(loader.dataset)\n",
        "\n",
        "    print('\\nValidation set: Average loss: {:.4f}, Accuracy: {}/{} ({:.0f}%)\\n'.format(\n",
        "        validation_loss, correct, len(loader.dataset),\n",
        "        100. * correct / len(loader.dataset)))\n",
        "    \n",
        "    return validation_loss"
      ],
      "execution_count": 0,
      "outputs": []
    },
    {
      "metadata": {
        "id": "3ZiV4PcyIr6Y",
        "colab_type": "text"
      },
      "cell_type": "markdown",
      "source": [
        "Once we have defined our DL model, the training and the validation procedures, we must import the data from the MNIST dataset to later train the model with different Loss Functions and evaluate its performance. For the training, a bacth of 128 data samples is to be used, while 1000 data samples are to be used for the validation."
      ]
    },
    {
      "metadata": {
        "id": "zkW_8DqRluVA",
        "colab_type": "code",
        "colab": {}
      },
      "cell_type": "code",
      "source": [
        "train_batch_size = 128\n",
        "\n",
        "mnist_mean = 0.1307\n",
        "mnist_stddev = 0.3081\n",
        "train_loader = torch.utils.data.DataLoader(\n",
        "    datasets.MNIST('./data',\n",
        "                   train=True,\n",
        "                   download=True,\n",
        "                   transform=transforms.Compose([\n",
        "                       transforms.ToTensor(),\n",
        "                       transforms.Normalize((mnist_mean,), (mnist_stddev,))\n",
        "                   ])),\n",
        "    batch_size=train_batch_size,\n",
        "    shuffle=True)\n",
        "\n",
        "valid_batch_size = 1000\n",
        "valid_loader = torch.utils.data.DataLoader(\n",
        "    datasets.MNIST('./data',\n",
        "                   train=False,\n",
        "                   transform=transforms.Compose([\n",
        "                       transforms.ToTensor(),\n",
        "                       transforms.Normalize((mnist_mean,), (mnist_stddev,))\n",
        "                   ])),\n",
        "    batch_size=valid_batch_size,\n",
        "    shuffle=True)"
      ],
      "execution_count": 0,
      "outputs": []
    },
    {
      "metadata": {
        "id": "YGMvPo_VLEA6",
        "colab_type": "text"
      },
      "cell_type": "markdown",
      "source": [
        "This is where all computations happen. First, the computation device is defined, and set to a GPU if possible, the model is instantiated to the one that was defined above, and a Stochastic Gradient Descent optimizer (with a learning rate of 0.01 and a momentum of 0.5) is chosen.\n",
        "\n",
        "For each Loss Function to be studied, the training losses and the validation losses are computed (the way it was defined above in the training and validation methods), for 10 epochs. The result for each Loss Function is then plotted.\n",
        "\n"
      ]
    },
    {
      "metadata": {
        "id": "E_QYdG5OnDfB",
        "colab_type": "code",
        "outputId": "d7e2cc33-f62e-4da3-efad-bfbfe0034c64",
        "colab": {
          "base_uri": "https://localhost:8080/",
          "height": 8146
        }
      },
      "cell_type": "code",
      "source": [
        "device = torch.device(\"cuda:0\" if torch.cuda.is_available() else \"cpu\")\n",
        "model = Net().to(device)\n",
        "optimizer = optim.SGD(model.parameters(), lr=0.01, momentum=0.5)\n",
        "\n",
        "eval_funcs = [\"l1_loss\",\"mse_loss\",\"nll_loss\",\"cross_entropy\",\"multi_margin_loss\"]\n",
        "results = {}\n",
        "for eval_func in eval_funcs:\n",
        "  print(\"############### EVALUATING LOSS FUNCTION \"+eval_func+\" ###############\")\n",
        "  train_losses = []\n",
        "  valid_losses = []\n",
        "  valid_x = []\n",
        "  num_epochs = 10\n",
        "  model.apply(init_weights)\n",
        "  for epoch in range(1, num_epochs + 1):\n",
        "      epoch_losses = train(80, model, device, train_loader, optimizer, epoch, eval_func)\n",
        "      train_losses.extend(epoch_losses) # Training losses (global)\n",
        "      valid_loss = validate(model, device, valid_loader, eval_func)\n",
        "      valid_losses.append([valid_loss]) # Validation losses (global)\n",
        "      valid_x.append(len(train_losses) - 1)\n",
        "  \n",
        "  #Save the results of (train and validation losses) of this particular Loss Function\n",
        "  results[eval_func] = {}\n",
        "  results[eval_func]['train'] = {}\n",
        "  results[eval_func]['train']['train_losses'] = train_losses\n",
        "  results[eval_func]['valid'] = {}\n",
        "  results[eval_func]['valid']['valid_losses'] = valid_losses\n",
        "  results[eval_func]['valid']['valid_x'] = valid_x\n"
      ],
      "execution_count": 15,
      "outputs": [
        {
          "output_type": "stream",
          "text": [
            "############### EVALUATING LOSS FUNCTION l1_loss ###############\n",
            "Train Epoch: 1 [0/60000 (0%)]\tLoss: 2.492707\n",
            "Train Epoch: 1 [10240/60000 (17%)]\tLoss: 2.408529\n",
            "Train Epoch: 1 [20480/60000 (34%)]\tLoss: 2.406659\n",
            "Train Epoch: 1 [30720/60000 (51%)]\tLoss: 2.405692\n",
            "Train Epoch: 1 [40960/60000 (68%)]\tLoss: 2.405372\n",
            "Train Epoch: 1 [51200/60000 (85%)]\tLoss: 2.405015\n",
            "\n",
            "Validation set: Average loss: 24.0461, Accuracy: 952/10000 (10%)\n",
            "\n",
            "Train Epoch: 2 [0/60000 (0%)]\tLoss: 2.404614\n",
            "Train Epoch: 2 [10240/60000 (17%)]\tLoss: 2.404430\n",
            "Train Epoch: 2 [20480/60000 (34%)]\tLoss: 2.404310\n",
            "Train Epoch: 2 [30720/60000 (51%)]\tLoss: 2.403973\n",
            "Train Epoch: 2 [40960/60000 (68%)]\tLoss: 2.403915\n",
            "Train Epoch: 2 [51200/60000 (85%)]\tLoss: 2.403813\n",
            "\n",
            "Validation set: Average loss: 24.0373, Accuracy: 1052/10000 (11%)\n",
            "\n",
            "Train Epoch: 3 [0/60000 (0%)]\tLoss: 2.403751\n",
            "Train Epoch: 3 [10240/60000 (17%)]\tLoss: 2.403624\n",
            "Train Epoch: 3 [20480/60000 (34%)]\tLoss: 2.403570\n",
            "Train Epoch: 3 [30720/60000 (51%)]\tLoss: 2.403502\n",
            "Train Epoch: 3 [40960/60000 (68%)]\tLoss: 2.403495\n",
            "Train Epoch: 3 [51200/60000 (85%)]\tLoss: 2.403402\n",
            "\n",
            "Validation set: Average loss: 24.0335, Accuracy: 1081/10000 (11%)\n",
            "\n",
            "Train Epoch: 4 [0/60000 (0%)]\tLoss: 2.403356\n",
            "Train Epoch: 4 [10240/60000 (17%)]\tLoss: 2.403357\n",
            "Train Epoch: 4 [20480/60000 (34%)]\tLoss: 2.403321\n",
            "Train Epoch: 4 [30720/60000 (51%)]\tLoss: 2.403284\n",
            "Train Epoch: 4 [40960/60000 (68%)]\tLoss: 2.403220\n",
            "Train Epoch: 4 [51200/60000 (85%)]\tLoss: 2.403199\n",
            "\n",
            "Validation set: Average loss: 24.0316, Accuracy: 1145/10000 (11%)\n",
            "\n",
            "Train Epoch: 5 [0/60000 (0%)]\tLoss: 2.403173\n",
            "Train Epoch: 5 [10240/60000 (17%)]\tLoss: 2.403124\n",
            "Train Epoch: 5 [20480/60000 (34%)]\tLoss: 2.403118\n",
            "Train Epoch: 5 [30720/60000 (51%)]\tLoss: 2.403104\n",
            "Train Epoch: 5 [40960/60000 (68%)]\tLoss: 2.403073\n",
            "Train Epoch: 5 [51200/60000 (85%)]\tLoss: 2.403036\n",
            "\n",
            "Validation set: Average loss: 24.0302, Accuracy: 1162/10000 (12%)\n",
            "\n",
            "Train Epoch: 6 [0/60000 (0%)]\tLoss: 2.403059\n",
            "Train Epoch: 6 [10240/60000 (17%)]\tLoss: 2.403001\n",
            "Train Epoch: 6 [20480/60000 (34%)]\tLoss: 2.402977\n",
            "Train Epoch: 6 [30720/60000 (51%)]\tLoss: 2.402936\n",
            "Train Epoch: 6 [40960/60000 (68%)]\tLoss: 2.402968\n",
            "Train Epoch: 6 [51200/60000 (85%)]\tLoss: 2.402955\n",
            "\n",
            "Validation set: Average loss: 24.0292, Accuracy: 1209/10000 (12%)\n",
            "\n",
            "Train Epoch: 7 [0/60000 (0%)]\tLoss: 2.402946\n",
            "Train Epoch: 7 [10240/60000 (17%)]\tLoss: 2.402932\n",
            "Train Epoch: 7 [20480/60000 (34%)]\tLoss: 2.402879\n",
            "Train Epoch: 7 [30720/60000 (51%)]\tLoss: 2.402875\n",
            "Train Epoch: 7 [40960/60000 (68%)]\tLoss: 2.402859\n",
            "Train Epoch: 7 [51200/60000 (85%)]\tLoss: 2.402857\n",
            "\n",
            "Validation set: Average loss: 24.0283, Accuracy: 1236/10000 (12%)\n",
            "\n",
            "Train Epoch: 8 [0/60000 (0%)]\tLoss: 2.402841\n",
            "Train Epoch: 8 [10240/60000 (17%)]\tLoss: 2.402835\n",
            "Train Epoch: 8 [20480/60000 (34%)]\tLoss: 2.402821\n",
            "Train Epoch: 8 [30720/60000 (51%)]\tLoss: 2.402803\n",
            "Train Epoch: 8 [40960/60000 (68%)]\tLoss: 2.402770\n",
            "Train Epoch: 8 [51200/60000 (85%)]\tLoss: 2.402785\n",
            "\n",
            "Validation set: Average loss: 24.0275, Accuracy: 1302/10000 (13%)\n",
            "\n",
            "Train Epoch: 9 [0/60000 (0%)]\tLoss: 2.402748\n",
            "Train Epoch: 9 [10240/60000 (17%)]\tLoss: 2.402740\n",
            "Train Epoch: 9 [20480/60000 (34%)]\tLoss: 2.402709\n",
            "Train Epoch: 9 [30720/60000 (51%)]\tLoss: 2.402700\n",
            "Train Epoch: 9 [40960/60000 (68%)]\tLoss: 2.402692\n",
            "Train Epoch: 9 [51200/60000 (85%)]\tLoss: 2.402689\n",
            "\n",
            "Validation set: Average loss: 24.0267, Accuracy: 1148/10000 (11%)\n",
            "\n",
            "Train Epoch: 10 [0/60000 (0%)]\tLoss: 2.402678\n",
            "Train Epoch: 10 [10240/60000 (17%)]\tLoss: 2.402655\n",
            "Train Epoch: 10 [20480/60000 (34%)]\tLoss: 2.402659\n",
            "Train Epoch: 10 [30720/60000 (51%)]\tLoss: 2.402647\n",
            "Train Epoch: 10 [40960/60000 (68%)]\tLoss: 2.402653\n",
            "Train Epoch: 10 [51200/60000 (85%)]\tLoss: 2.402636\n",
            "\n",
            "Validation set: Average loss: 24.0264, Accuracy: 1004/10000 (10%)\n",
            "\n",
            "############### EVALUATING LOSS FUNCTION mse_loss ###############\n",
            "Train Epoch: 1 [0/60000 (0%)]\tLoss: 5.863585\n",
            "Train Epoch: 1 [10240/60000 (17%)]\tLoss: 5.861412\n",
            "Train Epoch: 1 [20480/60000 (34%)]\tLoss: 5.858906\n",
            "Train Epoch: 1 [30720/60000 (51%)]\tLoss: 5.857057\n",
            "Train Epoch: 1 [40960/60000 (68%)]\tLoss: 5.855778\n",
            "Train Epoch: 1 [51200/60000 (85%)]\tLoss: 5.853591\n",
            "\n",
            "Validation set: Average loss: 58.5275, Accuracy: 7396/10000 (74%)\n",
            "\n",
            "Train Epoch: 2 [0/60000 (0%)]\tLoss: 5.852923\n",
            "Train Epoch: 2 [10240/60000 (17%)]\tLoss: 5.851951\n",
            "Train Epoch: 2 [20480/60000 (34%)]\tLoss: 5.850136\n",
            "Train Epoch: 2 [30720/60000 (51%)]\tLoss: 5.850200\n",
            "Train Epoch: 2 [40960/60000 (68%)]\tLoss: 5.850171\n",
            "Train Epoch: 2 [51200/60000 (85%)]\tLoss: 5.850132\n",
            "\n",
            "Validation set: Average loss: 58.4879, Accuracy: 8576/10000 (86%)\n",
            "\n",
            "Train Epoch: 3 [0/60000 (0%)]\tLoss: 5.849423\n",
            "Train Epoch: 3 [10240/60000 (17%)]\tLoss: 5.849934\n",
            "Train Epoch: 3 [20480/60000 (34%)]\tLoss: 5.849079\n",
            "Train Epoch: 3 [30720/60000 (51%)]\tLoss: 5.847707\n",
            "Train Epoch: 3 [40960/60000 (68%)]\tLoss: 5.847760\n",
            "Train Epoch: 3 [51200/60000 (85%)]\tLoss: 5.846552\n",
            "\n",
            "Validation set: Average loss: 58.4703, Accuracy: 8914/10000 (89%)\n",
            "\n",
            "Train Epoch: 4 [0/60000 (0%)]\tLoss: 5.847421\n",
            "Train Epoch: 4 [10240/60000 (17%)]\tLoss: 5.845876\n",
            "Train Epoch: 4 [20480/60000 (34%)]\tLoss: 5.846692\n",
            "Train Epoch: 4 [30720/60000 (51%)]\tLoss: 5.846570\n",
            "Train Epoch: 4 [40960/60000 (68%)]\tLoss: 5.844994\n",
            "Train Epoch: 4 [51200/60000 (85%)]\tLoss: 5.847622\n",
            "\n",
            "Validation set: Average loss: 58.4599, Accuracy: 9106/10000 (91%)\n",
            "\n",
            "Train Epoch: 5 [0/60000 (0%)]\tLoss: 5.846046\n",
            "Train Epoch: 5 [10240/60000 (17%)]\tLoss: 5.845922\n",
            "Train Epoch: 5 [20480/60000 (34%)]\tLoss: 5.846067\n",
            "Train Epoch: 5 [30720/60000 (51%)]\tLoss: 5.846460\n",
            "Train Epoch: 5 [40960/60000 (68%)]\tLoss: 5.845360\n",
            "Train Epoch: 5 [51200/60000 (85%)]\tLoss: 5.845341\n",
            "\n",
            "Validation set: Average loss: 58.4528, Accuracy: 9215/10000 (92%)\n",
            "\n",
            "Train Epoch: 6 [0/60000 (0%)]\tLoss: 5.845802\n",
            "Train Epoch: 6 [10240/60000 (17%)]\tLoss: 5.845704\n",
            "Train Epoch: 6 [20480/60000 (34%)]\tLoss: 5.846006\n",
            "Train Epoch: 6 [30720/60000 (51%)]\tLoss: 5.845569\n",
            "Train Epoch: 6 [40960/60000 (68%)]\tLoss: 5.845761\n",
            "Train Epoch: 6 [51200/60000 (85%)]\tLoss: 5.845841\n",
            "\n",
            "Validation set: Average loss: 58.4476, Accuracy: 9286/10000 (93%)\n",
            "\n",
            "Train Epoch: 7 [0/60000 (0%)]\tLoss: 5.844875\n",
            "Train Epoch: 7 [10240/60000 (17%)]\tLoss: 5.844794\n",
            "Train Epoch: 7 [20480/60000 (34%)]\tLoss: 5.844533\n",
            "Train Epoch: 7 [30720/60000 (51%)]\tLoss: 5.843830\n",
            "Train Epoch: 7 [40960/60000 (68%)]\tLoss: 5.845004\n",
            "Train Epoch: 7 [51200/60000 (85%)]\tLoss: 5.846160\n",
            "\n",
            "Validation set: Average loss: 58.4435, Accuracy: 9340/10000 (93%)\n",
            "\n",
            "Train Epoch: 8 [0/60000 (0%)]\tLoss: 5.844572\n",
            "Train Epoch: 8 [10240/60000 (17%)]\tLoss: 5.844559\n",
            "Train Epoch: 8 [20480/60000 (34%)]\tLoss: 5.843912\n",
            "Train Epoch: 8 [30720/60000 (51%)]\tLoss: 5.844594\n",
            "Train Epoch: 8 [40960/60000 (68%)]\tLoss: 5.843127\n",
            "Train Epoch: 8 [51200/60000 (85%)]\tLoss: 5.843921\n",
            "\n",
            "Validation set: Average loss: 58.4400, Accuracy: 9380/10000 (94%)\n",
            "\n",
            "Train Epoch: 9 [0/60000 (0%)]\tLoss: 5.844256\n",
            "Train Epoch: 9 [10240/60000 (17%)]\tLoss: 5.843973\n",
            "Train Epoch: 9 [20480/60000 (34%)]\tLoss: 5.844257\n",
            "Train Epoch: 9 [30720/60000 (51%)]\tLoss: 5.844296\n",
            "Train Epoch: 9 [40960/60000 (68%)]\tLoss: 5.843298\n",
            "Train Epoch: 9 [51200/60000 (85%)]\tLoss: 5.844499\n",
            "\n",
            "Validation set: Average loss: 58.4372, Accuracy: 9416/10000 (94%)\n",
            "\n",
            "Train Epoch: 10 [0/60000 (0%)]\tLoss: 5.843274\n",
            "Train Epoch: 10 [10240/60000 (17%)]\tLoss: 5.843918\n",
            "Train Epoch: 10 [20480/60000 (34%)]\tLoss: 5.843523\n",
            "Train Epoch: 10 [30720/60000 (51%)]\tLoss: 5.843793\n",
            "Train Epoch: 10 [40960/60000 (68%)]\tLoss: 5.844617\n",
            "Train Epoch: 10 [51200/60000 (85%)]\tLoss: 5.844090\n",
            "\n",
            "Validation set: Average loss: 58.4347, Accuracy: 9457/10000 (95%)\n",
            "\n",
            "############### EVALUATING LOSS FUNCTION nll_loss ###############\n",
            "Train Epoch: 1 [0/60000 (0%)]\tLoss: 2.314915\n",
            "Train Epoch: 1 [10240/60000 (17%)]\tLoss: 0.408839\n",
            "Train Epoch: 1 [20480/60000 (34%)]\tLoss: 0.345109\n",
            "Train Epoch: 1 [30720/60000 (51%)]\tLoss: 0.329717\n",
            "Train Epoch: 1 [40960/60000 (68%)]\tLoss: 0.296062\n",
            "Train Epoch: 1 [51200/60000 (85%)]\tLoss: 0.101086\n",
            "\n",
            "Validation set: Average loss: 0.1219, Accuracy: 9653/10000 (97%)\n",
            "\n",
            "Train Epoch: 2 [0/60000 (0%)]\tLoss: 0.125535\n",
            "Train Epoch: 2 [10240/60000 (17%)]\tLoss: 0.184999\n",
            "Train Epoch: 2 [20480/60000 (34%)]\tLoss: 0.235388\n",
            "Train Epoch: 2 [30720/60000 (51%)]\tLoss: 0.082567\n",
            "Train Epoch: 2 [40960/60000 (68%)]\tLoss: 0.097843\n",
            "Train Epoch: 2 [51200/60000 (85%)]\tLoss: 0.098986\n",
            "\n",
            "Validation set: Average loss: 0.0801, Accuracy: 9737/10000 (97%)\n",
            "\n",
            "Train Epoch: 3 [0/60000 (0%)]\tLoss: 0.033608\n",
            "Train Epoch: 3 [10240/60000 (17%)]\tLoss: 0.151308\n",
            "Train Epoch: 3 [20480/60000 (34%)]\tLoss: 0.088274\n",
            "Train Epoch: 3 [30720/60000 (51%)]\tLoss: 0.134476\n",
            "Train Epoch: 3 [40960/60000 (68%)]\tLoss: 0.065037\n",
            "Train Epoch: 3 [51200/60000 (85%)]\tLoss: 0.053099\n",
            "\n",
            "Validation set: Average loss: 0.0595, Accuracy: 9808/10000 (98%)\n",
            "\n",
            "Train Epoch: 4 [0/60000 (0%)]\tLoss: 0.063263\n",
            "Train Epoch: 4 [10240/60000 (17%)]\tLoss: 0.090931\n",
            "Train Epoch: 4 [20480/60000 (34%)]\tLoss: 0.059277\n",
            "Train Epoch: 4 [30720/60000 (51%)]\tLoss: 0.072230\n",
            "Train Epoch: 4 [40960/60000 (68%)]\tLoss: 0.056846\n",
            "Train Epoch: 4 [51200/60000 (85%)]\tLoss: 0.048775\n",
            "\n",
            "Validation set: Average loss: 0.0591, Accuracy: 9813/10000 (98%)\n",
            "\n",
            "Train Epoch: 5 [0/60000 (0%)]\tLoss: 0.032576\n",
            "Train Epoch: 5 [10240/60000 (17%)]\tLoss: 0.041637\n",
            "Train Epoch: 5 [20480/60000 (34%)]\tLoss: 0.074404\n",
            "Train Epoch: 5 [30720/60000 (51%)]\tLoss: 0.057405\n",
            "Train Epoch: 5 [40960/60000 (68%)]\tLoss: 0.064610\n",
            "Train Epoch: 5 [51200/60000 (85%)]\tLoss: 0.066077\n",
            "\n",
            "Validation set: Average loss: 0.0496, Accuracy: 9842/10000 (98%)\n",
            "\n",
            "Train Epoch: 6 [0/60000 (0%)]\tLoss: 0.075513\n",
            "Train Epoch: 6 [10240/60000 (17%)]\tLoss: 0.033406\n",
            "Train Epoch: 6 [20480/60000 (34%)]\tLoss: 0.049367\n",
            "Train Epoch: 6 [30720/60000 (51%)]\tLoss: 0.048748\n",
            "Train Epoch: 6 [40960/60000 (68%)]\tLoss: 0.039798\n",
            "Train Epoch: 6 [51200/60000 (85%)]\tLoss: 0.020206\n",
            "\n",
            "Validation set: Average loss: 0.0504, Accuracy: 9844/10000 (98%)\n",
            "\n",
            "Train Epoch: 7 [0/60000 (0%)]\tLoss: 0.069576\n",
            "Train Epoch: 7 [10240/60000 (17%)]\tLoss: 0.033008\n",
            "Train Epoch: 7 [20480/60000 (34%)]\tLoss: 0.009670\n",
            "Train Epoch: 7 [30720/60000 (51%)]\tLoss: 0.039312\n",
            "Train Epoch: 7 [40960/60000 (68%)]\tLoss: 0.066000\n",
            "Train Epoch: 7 [51200/60000 (85%)]\tLoss: 0.013673\n",
            "\n",
            "Validation set: Average loss: 0.0422, Accuracy: 9873/10000 (99%)\n",
            "\n",
            "Train Epoch: 8 [0/60000 (0%)]\tLoss: 0.023012\n",
            "Train Epoch: 8 [10240/60000 (17%)]\tLoss: 0.019081\n",
            "Train Epoch: 8 [20480/60000 (34%)]\tLoss: 0.056787\n",
            "Train Epoch: 8 [30720/60000 (51%)]\tLoss: 0.054047\n",
            "Train Epoch: 8 [40960/60000 (68%)]\tLoss: 0.032681\n",
            "Train Epoch: 8 [51200/60000 (85%)]\tLoss: 0.049951\n",
            "\n",
            "Validation set: Average loss: 0.0416, Accuracy: 9857/10000 (99%)\n",
            "\n",
            "Train Epoch: 9 [0/60000 (0%)]\tLoss: 0.043227\n",
            "Train Epoch: 9 [10240/60000 (17%)]\tLoss: 0.103751\n",
            "Train Epoch: 9 [20480/60000 (34%)]\tLoss: 0.026232\n",
            "Train Epoch: 9 [30720/60000 (51%)]\tLoss: 0.105457\n",
            "Train Epoch: 9 [40960/60000 (68%)]\tLoss: 0.017808\n",
            "Train Epoch: 9 [51200/60000 (85%)]\tLoss: 0.052586\n",
            "\n",
            "Validation set: Average loss: 0.0379, Accuracy: 9879/10000 (99%)\n",
            "\n",
            "Train Epoch: 10 [0/60000 (0%)]\tLoss: 0.049757\n",
            "Train Epoch: 10 [10240/60000 (17%)]\tLoss: 0.017184\n",
            "Train Epoch: 10 [20480/60000 (34%)]\tLoss: 0.034258\n",
            "Train Epoch: 10 [30720/60000 (51%)]\tLoss: 0.042737\n",
            "Train Epoch: 10 [40960/60000 (68%)]\tLoss: 0.062558\n",
            "Train Epoch: 10 [51200/60000 (85%)]\tLoss: 0.012034\n",
            "\n",
            "Validation set: Average loss: 0.0342, Accuracy: 9881/10000 (99%)\n",
            "\n",
            "############### EVALUATING LOSS FUNCTION cross_entropy ###############\n",
            "Train Epoch: 1 [0/60000 (0%)]\tLoss: 6.083290\n",
            "Train Epoch: 1 [10240/60000 (17%)]\tLoss: 0.130726\n",
            "Train Epoch: 1 [20480/60000 (34%)]\tLoss: 0.154837\n",
            "Train Epoch: 1 [30720/60000 (51%)]\tLoss: 0.119954\n",
            "Train Epoch: 1 [40960/60000 (68%)]\tLoss: 0.117671\n",
            "Train Epoch: 1 [51200/60000 (85%)]\tLoss: 0.061395\n",
            "\n",
            "Validation set: Average loss: 0.0653, Accuracy: 9793/10000 (98%)\n",
            "\n",
            "Train Epoch: 2 [0/60000 (0%)]\tLoss: 0.085710\n",
            "Train Epoch: 2 [10240/60000 (17%)]\tLoss: 0.029067\n",
            "Train Epoch: 2 [20480/60000 (34%)]\tLoss: 0.046337\n",
            "Train Epoch: 2 [30720/60000 (51%)]\tLoss: 0.075202\n",
            "Train Epoch: 2 [40960/60000 (68%)]\tLoss: 0.027016\n",
            "Train Epoch: 2 [51200/60000 (85%)]\tLoss: 0.044704\n",
            "\n",
            "Validation set: Average loss: 0.0485, Accuracy: 9852/10000 (99%)\n",
            "\n",
            "Train Epoch: 3 [0/60000 (0%)]\tLoss: 0.021327\n",
            "Train Epoch: 3 [10240/60000 (17%)]\tLoss: 0.018778\n",
            "Train Epoch: 3 [20480/60000 (34%)]\tLoss: 0.081066\n",
            "Train Epoch: 3 [30720/60000 (51%)]\tLoss: 0.034546\n",
            "Train Epoch: 3 [40960/60000 (68%)]\tLoss: 0.020024\n",
            "Train Epoch: 3 [51200/60000 (85%)]\tLoss: 0.051737\n",
            "\n",
            "Validation set: Average loss: 0.0436, Accuracy: 9860/10000 (99%)\n",
            "\n",
            "Train Epoch: 4 [0/60000 (0%)]\tLoss: 0.018163\n",
            "Train Epoch: 4 [10240/60000 (17%)]\tLoss: 0.033826\n",
            "Train Epoch: 4 [20480/60000 (34%)]\tLoss: 0.028822\n",
            "Train Epoch: 4 [30720/60000 (51%)]\tLoss: 0.052099\n",
            "Train Epoch: 4 [40960/60000 (68%)]\tLoss: 0.045214\n",
            "Train Epoch: 4 [51200/60000 (85%)]\tLoss: 0.074343\n",
            "\n",
            "Validation set: Average loss: 0.0373, Accuracy: 9867/10000 (99%)\n",
            "\n",
            "Train Epoch: 5 [0/60000 (0%)]\tLoss: 0.007837\n",
            "Train Epoch: 5 [10240/60000 (17%)]\tLoss: 0.050233\n",
            "Train Epoch: 5 [20480/60000 (34%)]\tLoss: 0.040522\n",
            "Train Epoch: 5 [30720/60000 (51%)]\tLoss: 0.009111\n",
            "Train Epoch: 5 [40960/60000 (68%)]\tLoss: 0.046792\n",
            "Train Epoch: 5 [51200/60000 (85%)]\tLoss: 0.037165\n",
            "\n",
            "Validation set: Average loss: 0.0453, Accuracy: 9846/10000 (98%)\n",
            "\n",
            "Train Epoch: 6 [0/60000 (0%)]\tLoss: 0.025409\n",
            "Train Epoch: 6 [10240/60000 (17%)]\tLoss: 0.017617\n",
            "Train Epoch: 6 [20480/60000 (34%)]\tLoss: 0.063079\n",
            "Train Epoch: 6 [30720/60000 (51%)]\tLoss: 0.003705\n",
            "Train Epoch: 6 [40960/60000 (68%)]\tLoss: 0.048480\n",
            "Train Epoch: 6 [51200/60000 (85%)]\tLoss: 0.016195\n",
            "\n",
            "Validation set: Average loss: 0.0341, Accuracy: 9874/10000 (99%)\n",
            "\n",
            "Train Epoch: 7 [0/60000 (0%)]\tLoss: 0.038416\n",
            "Train Epoch: 7 [10240/60000 (17%)]\tLoss: 0.032332\n",
            "Train Epoch: 7 [20480/60000 (34%)]\tLoss: 0.046508\n",
            "Train Epoch: 7 [30720/60000 (51%)]\tLoss: 0.031644\n",
            "Train Epoch: 7 [40960/60000 (68%)]\tLoss: 0.009542\n",
            "Train Epoch: 7 [51200/60000 (85%)]\tLoss: 0.015952\n",
            "\n",
            "Validation set: Average loss: 0.0313, Accuracy: 9885/10000 (99%)\n",
            "\n",
            "Train Epoch: 8 [0/60000 (0%)]\tLoss: 0.019454\n",
            "Train Epoch: 8 [10240/60000 (17%)]\tLoss: 0.034241\n",
            "Train Epoch: 8 [20480/60000 (34%)]\tLoss: 0.026719\n",
            "Train Epoch: 8 [30720/60000 (51%)]\tLoss: 0.023659\n",
            "Train Epoch: 8 [40960/60000 (68%)]\tLoss: 0.029031\n",
            "Train Epoch: 8 [51200/60000 (85%)]\tLoss: 0.041726\n",
            "\n",
            "Validation set: Average loss: 0.0286, Accuracy: 9895/10000 (99%)\n",
            "\n",
            "Train Epoch: 9 [0/60000 (0%)]\tLoss: 0.009071\n",
            "Train Epoch: 9 [10240/60000 (17%)]\tLoss: 0.016297\n",
            "Train Epoch: 9 [20480/60000 (34%)]\tLoss: 0.007712\n",
            "Train Epoch: 9 [30720/60000 (51%)]\tLoss: 0.022378\n",
            "Train Epoch: 9 [40960/60000 (68%)]\tLoss: 0.037300\n",
            "Train Epoch: 9 [51200/60000 (85%)]\tLoss: 0.030926\n",
            "\n",
            "Validation set: Average loss: 0.0294, Accuracy: 9896/10000 (99%)\n",
            "\n",
            "Train Epoch: 10 [0/60000 (0%)]\tLoss: 0.017726\n",
            "Train Epoch: 10 [10240/60000 (17%)]\tLoss: 0.018610\n",
            "Train Epoch: 10 [20480/60000 (34%)]\tLoss: 0.005111\n",
            "Train Epoch: 10 [30720/60000 (51%)]\tLoss: 0.007057\n",
            "Train Epoch: 10 [40960/60000 (68%)]\tLoss: 0.047541\n",
            "Train Epoch: 10 [51200/60000 (85%)]\tLoss: 0.008899\n",
            "\n",
            "Validation set: Average loss: 0.0284, Accuracy: 9903/10000 (99%)\n",
            "\n",
            "############### EVALUATING LOSS FUNCTION multi_margin_loss ###############\n",
            "Train Epoch: 1 [0/60000 (0%)]\tLoss: 1.985627\n",
            "Train Epoch: 1 [10240/60000 (17%)]\tLoss: 0.024119\n",
            "Train Epoch: 1 [20480/60000 (34%)]\tLoss: 0.013193\n",
            "Train Epoch: 1 [30720/60000 (51%)]\tLoss: 0.005219\n",
            "Train Epoch: 1 [40960/60000 (68%)]\tLoss: 0.011312\n",
            "Train Epoch: 1 [51200/60000 (85%)]\tLoss: 0.018153\n",
            "\n",
            "Validation set: Average loss: 0.0092, Accuracy: 9756/10000 (98%)\n",
            "\n",
            "Train Epoch: 2 [0/60000 (0%)]\tLoss: 0.003282\n",
            "Train Epoch: 2 [10240/60000 (17%)]\tLoss: 0.009017\n",
            "Train Epoch: 2 [20480/60000 (34%)]\tLoss: 0.006979\n",
            "Train Epoch: 2 [30720/60000 (51%)]\tLoss: 0.010911\n",
            "Train Epoch: 2 [40960/60000 (68%)]\tLoss: 0.022358\n",
            "Train Epoch: 2 [51200/60000 (85%)]\tLoss: 0.007634\n",
            "\n",
            "Validation set: Average loss: 0.0072, Accuracy: 9801/10000 (98%)\n",
            "\n",
            "Train Epoch: 3 [0/60000 (0%)]\tLoss: 0.003693\n",
            "Train Epoch: 3 [10240/60000 (17%)]\tLoss: 0.005142\n",
            "Train Epoch: 3 [20480/60000 (34%)]\tLoss: 0.013840\n",
            "Train Epoch: 3 [30720/60000 (51%)]\tLoss: 0.016545\n",
            "Train Epoch: 3 [40960/60000 (68%)]\tLoss: 0.018281\n",
            "Train Epoch: 3 [51200/60000 (85%)]\tLoss: 0.005140\n",
            "\n",
            "Validation set: Average loss: 0.0060, Accuracy: 9821/10000 (98%)\n",
            "\n",
            "Train Epoch: 4 [0/60000 (0%)]\tLoss: 0.004563\n",
            "Train Epoch: 4 [10240/60000 (17%)]\tLoss: 0.003037\n",
            "Train Epoch: 4 [20480/60000 (34%)]\tLoss: 0.001108\n",
            "Train Epoch: 4 [30720/60000 (51%)]\tLoss: 0.001808\n",
            "Train Epoch: 4 [40960/60000 (68%)]\tLoss: 0.004919\n",
            "Train Epoch: 4 [51200/60000 (85%)]\tLoss: 0.000166\n",
            "\n",
            "Validation set: Average loss: 0.0054, Accuracy: 9853/10000 (99%)\n",
            "\n",
            "Train Epoch: 5 [0/60000 (0%)]\tLoss: 0.001336\n",
            "Train Epoch: 5 [10240/60000 (17%)]\tLoss: 0.006215\n",
            "Train Epoch: 5 [20480/60000 (34%)]\tLoss: 0.002195\n",
            "Train Epoch: 5 [30720/60000 (51%)]\tLoss: 0.005190\n",
            "Train Epoch: 5 [40960/60000 (68%)]\tLoss: 0.003442\n",
            "Train Epoch: 5 [51200/60000 (85%)]\tLoss: 0.004094\n",
            "\n",
            "Validation set: Average loss: 0.0051, Accuracy: 9855/10000 (99%)\n",
            "\n",
            "Train Epoch: 6 [0/60000 (0%)]\tLoss: 0.003303\n",
            "Train Epoch: 6 [10240/60000 (17%)]\tLoss: 0.001458\n",
            "Train Epoch: 6 [20480/60000 (34%)]\tLoss: 0.003305\n",
            "Train Epoch: 6 [30720/60000 (51%)]\tLoss: 0.005723\n",
            "Train Epoch: 6 [40960/60000 (68%)]\tLoss: 0.001312\n",
            "Train Epoch: 6 [51200/60000 (85%)]\tLoss: 0.005172\n",
            "\n",
            "Validation set: Average loss: 0.0050, Accuracy: 9854/10000 (99%)\n",
            "\n",
            "Train Epoch: 7 [0/60000 (0%)]\tLoss: 0.002425\n",
            "Train Epoch: 7 [10240/60000 (17%)]\tLoss: 0.003133\n",
            "Train Epoch: 7 [20480/60000 (34%)]\tLoss: 0.002099\n",
            "Train Epoch: 7 [30720/60000 (51%)]\tLoss: 0.001297\n",
            "Train Epoch: 7 [40960/60000 (68%)]\tLoss: 0.006144\n",
            "Train Epoch: 7 [51200/60000 (85%)]\tLoss: 0.002562\n",
            "\n",
            "Validation set: Average loss: 0.0044, Accuracy: 9872/10000 (99%)\n",
            "\n",
            "Train Epoch: 8 [0/60000 (0%)]\tLoss: 0.003693\n",
            "Train Epoch: 8 [10240/60000 (17%)]\tLoss: 0.002575\n",
            "Train Epoch: 8 [20480/60000 (34%)]\tLoss: 0.000744\n",
            "Train Epoch: 8 [30720/60000 (51%)]\tLoss: 0.004254\n",
            "Train Epoch: 8 [40960/60000 (68%)]\tLoss: 0.006475\n",
            "Train Epoch: 8 [51200/60000 (85%)]\tLoss: 0.002980\n",
            "\n",
            "Validation set: Average loss: 0.0043, Accuracy: 9876/10000 (99%)\n",
            "\n",
            "Train Epoch: 9 [0/60000 (0%)]\tLoss: 0.004015\n",
            "Train Epoch: 9 [10240/60000 (17%)]\tLoss: 0.008622\n",
            "Train Epoch: 9 [20480/60000 (34%)]\tLoss: 0.000850\n",
            "Train Epoch: 9 [30720/60000 (51%)]\tLoss: 0.002361\n",
            "Train Epoch: 9 [40960/60000 (68%)]\tLoss: 0.001431\n",
            "Train Epoch: 9 [51200/60000 (85%)]\tLoss: 0.006406\n",
            "\n",
            "Validation set: Average loss: 0.0042, Accuracy: 9874/10000 (99%)\n",
            "\n",
            "Train Epoch: 10 [0/60000 (0%)]\tLoss: 0.000358\n",
            "Train Epoch: 10 [10240/60000 (17%)]\tLoss: 0.003942\n",
            "Train Epoch: 10 [20480/60000 (34%)]\tLoss: 0.000010\n",
            "Train Epoch: 10 [30720/60000 (51%)]\tLoss: 0.000962\n",
            "Train Epoch: 10 [40960/60000 (68%)]\tLoss: 0.002323\n",
            "Train Epoch: 10 [51200/60000 (85%)]\tLoss: 0.004430\n",
            "\n",
            "Validation set: Average loss: 0.0041, Accuracy: 9875/10000 (99%)\n",
            "\n"
          ],
          "name": "stdout"
        }
      ]
    },
    {
      "metadata": {
        "id": "VJxJWSR04ZO3",
        "colab_type": "code",
        "colab": {}
      },
      "cell_type": "code",
      "source": [
        "#print(results)"
      ],
      "execution_count": 0,
      "outputs": []
    },
    {
      "metadata": {
        "id": "_A3xliS35k8k",
        "colab_type": "text"
      },
      "cell_type": "markdown",
      "source": [
        "Here, the evolution of the train losses for each Loss Function is plotted. It can be seen that negative-log-likelihood loss, cross entropy loss, and multi margin loss (hinge loss) functions are the ones that work better.\n",
        "\n",
        "L1 loss and Mean Square Error loss do not behave properly, as they are Loss Functions designed for regression problems, not classification ones. The MSE one, though, produces better results than the L1 one."
      ]
    },
    {
      "metadata": {
        "id": "VnxeVpnC4kls",
        "colab_type": "code",
        "outputId": "b2d8c8ea-56b9-4e6e-e481-951e5e1a5441",
        "colab": {
          "base_uri": "https://localhost:8080/",
          "height": 347
        }
      },
      "cell_type": "code",
      "source": [
        "plt.gcf().clear()\n",
        "plt.plot(results[\"l1_loss\"][\"train\"][\"train_losses\"], 'r-')\n",
        "plt.plot(results[\"mse_loss\"][\"train\"][\"train_losses\"], 'g-')\n",
        "plt.plot(results[\"nll_loss\"][\"train\"][\"train_losses\"], 'b-')\n",
        "plt.plot(results[\"cross_entropy\"][\"train\"][\"train_losses\"], 'y-')\n",
        "plt.plot(results[\"multi_margin_loss\"][\"train\"][\"train_losses\"], 'k-')\n",
        "plt.show()"
      ],
      "execution_count": 28,
      "outputs": [
        {
          "output_type": "display_data",
          "data": {
            "image/png": "[encoded data removed]",
            "text/plain": [
              "<Figure size 576x396 with 1 Axes>"
            ]
          },
          "metadata": {
            "tags": []
          }
        }
      ]
    },
    {
      "metadata": {
        "id": "Wj3Sicv28MY7",
        "colab_type": "text"
      },
      "cell_type": "markdown",
      "source": [
        "L1 loss and MSE loss functions seem constant due to the scale of the last plot when including but do also vary and converge."
      ]
    },
    {
      "metadata": {
        "id": "2Lh7kIt-84Cb",
        "colab_type": "code",
        "outputId": "ff104cc9-b769-4b3c-8a6b-d1cc361e8bbe",
        "colab": {
          "base_uri": "https://localhost:8080/",
          "height": 347
        }
      },
      "cell_type": "code",
      "source": [
        "plt.gcf().clear()\n",
        "plt.plot(results[\"l1_loss\"][\"train\"][\"train_losses\"], 'r-')\n",
        "plt.show()"
      ],
      "execution_count": 29,
      "outputs": [
        {
          "output_type": "display_data",
          "data": {
            "image/png": "[encoded data removed]",
            "text/plain": [
              "<Figure size 576x396 with 1 Axes>"
            ]
          },
          "metadata": {
            "tags": []
          }
        }
      ]
    },
    {
      "metadata": {
        "id": "fxavrQjn8GPz",
        "colab_type": "code",
        "outputId": "fe06e56d-9823-43c7-af1a-82cc90d621a6",
        "colab": {
          "base_uri": "https://localhost:8080/",
          "height": 347
        }
      },
      "cell_type": "code",
      "source": [
        "plt.gcf().clear()\n",
        "plt.plot(results[\"mse_loss\"][\"train\"][\"train_losses\"], 'g-')\n",
        "plt.show()"
      ],
      "execution_count": 30,
      "outputs": [
        {
          "output_type": "display_data",
          "data": {
            "image/png": "[encoded data removed]",
            "text/plain": [
              "<Figure size 576x396 with 1 Axes>"
            ]
          },
          "metadata": {
            "tags": []
          }
        }
      ]
    },
    {
      "metadata": {
        "id": "3L6B0y3t6V1H",
        "colab_type": "text"
      },
      "cell_type": "markdown",
      "source": [
        "Here is a zoom-in for the three loss functions mentioned above. It can be seen that the multi margin loss function works the best out of the three, producing a loss with a very low variability. Both cross entropy and multi margin loss (hinge loss) converge very quickly, while the negative log likelihood loss function needs a bit of time."
      ]
    },
    {
      "metadata": {
        "id": "XKwkmQJg6Rqo",
        "colab_type": "code",
        "outputId": "bddc30dd-828c-4077-b9e0-bc0aaf8d10c2",
        "colab": {
          "base_uri": "https://localhost:8080/",
          "height": 347
        }
      },
      "cell_type": "code",
      "source": [
        "plt.gcf().clear()\n",
        "plt.plot(results[\"nll_loss\"][\"train\"][\"train_losses\"], 'b-')\n",
        "plt.plot(results[\"cross_entropy\"][\"train\"][\"train_losses\"], 'y-')\n",
        "plt.plot(results[\"multi_margin_loss\"][\"train\"][\"train_losses\"], 'k-')\n",
        "plt.show()"
      ],
      "execution_count": 31,
      "outputs": [
        {
          "output_type": "display_data",
          "data": {
            "image/png": "[encoded data removed]",
            "text/plain": [
              "<Figure size 576x396 with 1 Axes>"
            ]
          },
          "metadata": {
            "tags": []
          }
        }
      ]
    },
    {
      "metadata": {
        "id": "0thL8fLJ6koc",
        "colab_type": "code",
        "outputId": "8fd16af3-2ea9-4f7b-b6ac-d85963cd05b1",
        "colab": {
          "base_uri": "https://localhost:8080/",
          "height": 347
        }
      },
      "cell_type": "code",
      "source": [
        "plt.gcf().clear()\n",
        "plt.plot(results[\"cross_entropy\"][\"train\"][\"train_losses\"], 'y-')\n",
        "plt.plot(results[\"multi_margin_loss\"][\"train\"][\"train_losses\"], 'k-')\n",
        "plt.show()"
      ],
      "execution_count": 32,
      "outputs": [
        {
          "output_type": "display_data",
          "data": {
            "image/png": "[encoded data removed]",
            "text/plain": [
              "<Figure size 576x396 with 1 Axes>"
            ]
          },
          "metadata": {
            "tags": []
          }
        }
      ]
    },
    {
      "metadata": {
        "id": "k0yfOdB_75fb",
        "colab_type": "text"
      },
      "cell_type": "markdown",
      "source": [
        "Let's plot the same graphs for the validation batch\n",
        "\n"
      ]
    },
    {
      "metadata": {
        "id": "1pKTrfmh7oYj",
        "colab_type": "code",
        "outputId": "9f4f0a97-8f62-442a-9072-e1166bff2a41",
        "colab": {
          "base_uri": "https://localhost:8080/",
          "height": 347
        }
      },
      "cell_type": "code",
      "source": [
        "plt.gcf().clear()\n",
        "plt.plot(results[\"l1_loss\"][\"valid\"][\"valid_losses\"], 'r-')\n",
        "plt.plot(results[\"mse_loss\"][\"valid\"][\"valid_losses\"], 'g-')\n",
        "plt.plot(results[\"nll_loss\"][\"valid\"][\"valid_losses\"], 'b-')\n",
        "plt.plot(results[\"cross_entropy\"][\"valid\"][\"valid_losses\"], 'y-')\n",
        "plt.plot(results[\"multi_margin_loss\"][\"valid\"][\"valid_losses\"], 'k-')\n",
        "plt.show()"
      ],
      "execution_count": 33,
      "outputs": [
        {
          "output_type": "display_data",
          "data": {
            "image/png": "[encoded data removed]",
            "text/plain": [
              "<Figure size 576x396 with 1 Axes>"
            ]
          },
          "metadata": {
            "tags": []
          }
        }
      ]
    },
    {
      "metadata": {
        "id": "IwD_490C7-FO",
        "colab_type": "code",
        "outputId": "e2b00faf-8815-4153-fc43-751fa3dd043c",
        "colab": {
          "base_uri": "https://localhost:8080/",
          "height": 347
        }
      },
      "cell_type": "code",
      "source": [
        "plt.gcf().clear()\n",
        "plt.plot(results[\"nll_loss\"][\"valid\"][\"valid_losses\"], 'b-')\n",
        "plt.plot(results[\"cross_entropy\"][\"valid\"][\"valid_losses\"], 'y-')\n",
        "plt.plot(results[\"multi_margin_loss\"][\"valid\"][\"valid_losses\"], 'k-')\n",
        "plt.show()"
      ],
      "execution_count": 34,
      "outputs": [
        {
          "output_type": "display_data",
          "data": {
            "image/png": "[encoded data removed]",
            "text/plain": [
              "<Figure size 576x396 with 1 Axes>"
            ]
          },
          "metadata": {
            "tags": []
          }
        }
      ]
    },
    {
      "metadata": {
        "id": "JYtRAvyHcKj6",
        "colab_type": "code",
        "colab": {
          "base_uri": "https://localhost:8080/",
          "height": 347
        },
        "outputId": "853d03e8-78e8-4826-e633-b46cd24c9f8b"
      },
      "cell_type": "code",
      "source": [
        "plt.gcf().clear()\n",
        "plt.plot(results[\"multi_margin_loss\"][\"valid\"][\"valid_losses\"], 'k-')\n",
        "plt.show()"
      ],
      "execution_count": 35,
      "outputs": [
        {
          "output_type": "display_data",
          "data": {
            "image/png": "[encoded data removed]",
            "text/plain": [
              "<Figure size 576x396 with 1 Axes>"
            ]
          },
          "metadata": {
            "tags": []
          }
        }
      ]
    },
    {
      "metadata": {
        "id": "4qZfT65Jkdci",
        "colab_type": "code",
        "colab": {}
      },
      "cell_type": "code",
      "source": [
        ""
      ],
      "execution_count": 0,
      "outputs": []
    }
  ]
}